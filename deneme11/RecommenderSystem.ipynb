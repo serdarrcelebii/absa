{
 "cells": [
  {
   "cell_type": "code",
   "execution_count": 1,
   "metadata": {
    "collapsed": true
   },
   "outputs": [],
   "source": [
    "import pandas as pd\n",
    "import numpy as np\n",
    "import requests\n",
    "import lxml.html\n",
    "import pandas as pd\n",
    "import numpy as np\n",
    "from time import sleep\n",
    "import xml.etree.ElementTree as ET\n",
    "import itertools\n",
    "from itertools import compress"
   ]
  },
  {
   "cell_type": "code",
   "execution_count": 2,
   "metadata": {},
   "outputs": [
    {
     "data": {
      "text/html": [
       "<div>\n",
       "<style scoped>\n",
       "    .dataframe tbody tr th:only-of-type {\n",
       "        vertical-align: middle;\n",
       "    }\n",
       "\n",
       "    .dataframe tbody tr th {\n",
       "        vertical-align: top;\n",
       "    }\n",
       "\n",
       "    .dataframe thead th {\n",
       "        text-align: right;\n",
       "    }\n",
       "</style>\n",
       "<table border=\"1\" class=\"dataframe\">\n",
       "  <thead>\n",
       "    <tr style=\"text-align: right;\">\n",
       "      <th></th>\n",
       "      <th>reviewer</th>\n",
       "      <th>review_title</th>\n",
       "      <th>text</th>\n",
       "      <th>review_rating</th>\n",
       "      <th>ID</th>\n",
       "      <th>link</th>\n",
       "      <th>rating</th>\n",
       "      <th>total_reviews</th>\n",
       "      <th>title</th>\n",
       "    </tr>\n",
       "  </thead>\n",
       "  <tbody>\n",
       "    <tr>\n",
       "      <th>0</th>\n",
       "      <td>rw4785991</td>\n",
       "      <td>It's the movie Big With superpowers!</td>\n",
       "      <td>Character development is horrible, fast paced ...</td>\n",
       "      <td>1</td>\n",
       "      <td>tt0448115</td>\n",
       "      <td>https://www.imdb.com/title/tt0448115/?ref_=adv...</td>\n",
       "      <td>7.6</td>\n",
       "      <td>1095.0</td>\n",
       "      <td>Shazam!</td>\n",
       "    </tr>\n",
       "    <tr>\n",
       "      <th>1</th>\n",
       "      <td>rw4784318</td>\n",
       "      <td>The last third of this movie was directed by s...</td>\n",
       "      <td>There is an excuse for sitting through the fir...</td>\n",
       "      <td>1</td>\n",
       "      <td>tt0448115</td>\n",
       "      <td>https://www.imdb.com/title/tt0448115/?ref_=adv...</td>\n",
       "      <td>7.6</td>\n",
       "      <td>1095.0</td>\n",
       "      <td>Shazam!</td>\n",
       "    </tr>\n",
       "    <tr>\n",
       "      <th>2</th>\n",
       "      <td>rw4768014</td>\n",
       "      <td>Poor storyline, too childish and boring</td>\n",
       "      <td>Can't believe anyone would give this movie 10/...</td>\n",
       "      <td>1</td>\n",
       "      <td>tt0448115</td>\n",
       "      <td>https://www.imdb.com/title/tt0448115/?ref_=adv...</td>\n",
       "      <td>7.6</td>\n",
       "      <td>1095.0</td>\n",
       "      <td>Shazam!</td>\n",
       "    </tr>\n",
       "    <tr>\n",
       "      <th>3</th>\n",
       "      <td>rw4782869</td>\n",
       "      <td>The worst superhero movie of all time</td>\n",
       "      <td>The idea of the film is essentially copied/pla...</td>\n",
       "      <td>1</td>\n",
       "      <td>tt0448115</td>\n",
       "      <td>https://www.imdb.com/title/tt0448115/?ref_=adv...</td>\n",
       "      <td>7.6</td>\n",
       "      <td>1095.0</td>\n",
       "      <td>Shazam!</td>\n",
       "    </tr>\n",
       "    <tr>\n",
       "      <th>4</th>\n",
       "      <td>rw4778480</td>\n",
       "      <td>DC's power ranger</td>\n",
       "      <td>This is my first review in IMDB as I wanted to...</td>\n",
       "      <td>1</td>\n",
       "      <td>tt0448115</td>\n",
       "      <td>https://www.imdb.com/title/tt0448115/?ref_=adv...</td>\n",
       "      <td>7.6</td>\n",
       "      <td>1095.0</td>\n",
       "      <td>Shazam!</td>\n",
       "    </tr>\n",
       "  </tbody>\n",
       "</table>\n",
       "</div>"
      ],
      "text/plain": [
       "    reviewer                                       review_title  \\\n",
       "0  rw4785991               It's the movie Big With superpowers!   \n",
       "1  rw4784318  The last third of this movie was directed by s...   \n",
       "2  rw4768014            Poor storyline, too childish and boring   \n",
       "3  rw4782869              The worst superhero movie of all time   \n",
       "4  rw4778480                                  DC's power ranger   \n",
       "\n",
       "                                                text  review_rating  \\\n",
       "0  Character development is horrible, fast paced ...              1   \n",
       "1  There is an excuse for sitting through the fir...              1   \n",
       "2  Can't believe anyone would give this movie 10/...              1   \n",
       "3  The idea of the film is essentially copied/pla...              1   \n",
       "4  This is my first review in IMDB as I wanted to...              1   \n",
       "\n",
       "          ID                                               link  rating  \\\n",
       "0  tt0448115  https://www.imdb.com/title/tt0448115/?ref_=adv...     7.6   \n",
       "1  tt0448115  https://www.imdb.com/title/tt0448115/?ref_=adv...     7.6   \n",
       "2  tt0448115  https://www.imdb.com/title/tt0448115/?ref_=adv...     7.6   \n",
       "3  tt0448115  https://www.imdb.com/title/tt0448115/?ref_=adv...     7.6   \n",
       "4  tt0448115  https://www.imdb.com/title/tt0448115/?ref_=adv...     7.6   \n",
       "\n",
       "   total_reviews    title  \n",
       "0         1095.0  Shazam!  \n",
       "1         1095.0  Shazam!  \n",
       "2         1095.0  Shazam!  \n",
       "3         1095.0  Shazam!  \n",
       "4         1095.0  Shazam!  "
      ]
     },
     "execution_count": 2,
     "metadata": {},
     "output_type": "execute_result"
    }
   ],
   "source": [
    "all_info = pd.read_csv('all_info.csv')\n",
    "all_info.drop('Unnamed: 0',axis = 1, inplace = True)\n",
    "all_info.head()"
   ]
  },
  {
   "cell_type": "code",
   "execution_count": 3,
   "metadata": {},
   "outputs": [
    {
     "data": {
      "text/plain": [
       "'https://www.imdb.com/title/tt0448115/?ref_=adv_li_tt'"
      ]
     },
     "execution_count": 3,
     "metadata": {},
     "output_type": "execute_result"
    }
   ],
   "source": [
    "all_info.link.values[1]"
   ]
  },
  {
   "cell_type": "code",
   "execution_count": 4,
   "metadata": {},
   "outputs": [
    {
     "data": {
      "text/html": [
       "<div>\n",
       "<style scoped>\n",
       "    .dataframe tbody tr th:only-of-type {\n",
       "        vertical-align: middle;\n",
       "    }\n",
       "\n",
       "    .dataframe tbody tr th {\n",
       "        vertical-align: top;\n",
       "    }\n",
       "\n",
       "    .dataframe thead th {\n",
       "        text-align: right;\n",
       "    }\n",
       "</style>\n",
       "<table border=\"1\" class=\"dataframe\">\n",
       "  <thead>\n",
       "    <tr style=\"text-align: right;\">\n",
       "      <th></th>\n",
       "      <th>index</th>\n",
       "      <th>user rating list</th>\n",
       "      <th>user review list</th>\n",
       "    </tr>\n",
       "  </thead>\n",
       "  <tbody>\n",
       "    <tr>\n",
       "      <th>0</th>\n",
       "      <td>0</td>\n",
       "      <td>https://www.imdb.com/user/ur62723141/ratings</td>\n",
       "      <td>https://www.imdb.com/user/ur62723141/reviews</td>\n",
       "    </tr>\n",
       "    <tr>\n",
       "      <th>1</th>\n",
       "      <td>1</td>\n",
       "      <td>https://www.imdb.com/user/ur31593185/ratings</td>\n",
       "      <td>https://www.imdb.com/user/ur31593185/reviews</td>\n",
       "    </tr>\n",
       "    <tr>\n",
       "      <th>2</th>\n",
       "      <td>2</td>\n",
       "      <td>https://www.imdb.com/user/ur84265114/ratings</td>\n",
       "      <td>https://www.imdb.com/user/ur84265114/reviews</td>\n",
       "    </tr>\n",
       "    <tr>\n",
       "      <th>3</th>\n",
       "      <td>3</td>\n",
       "      <td>https://www.imdb.com/user/ur60501911/ratings</td>\n",
       "      <td>https://www.imdb.com/user/ur60501911/reviews</td>\n",
       "    </tr>\n",
       "    <tr>\n",
       "      <th>4</th>\n",
       "      <td>4</td>\n",
       "      <td>https://www.imdb.com/user/ur101627855/ratings</td>\n",
       "      <td>https://www.imdb.com/user/ur101627855/reviews</td>\n",
       "    </tr>\n",
       "  </tbody>\n",
       "</table>\n",
       "</div>"
      ],
      "text/plain": [
       "   index                               user rating list  \\\n",
       "0      0   https://www.imdb.com/user/ur62723141/ratings   \n",
       "1      1   https://www.imdb.com/user/ur31593185/ratings   \n",
       "2      2   https://www.imdb.com/user/ur84265114/ratings   \n",
       "3      3   https://www.imdb.com/user/ur60501911/ratings   \n",
       "4      4  https://www.imdb.com/user/ur101627855/ratings   \n",
       "\n",
       "                                user review list  \n",
       "0   https://www.imdb.com/user/ur62723141/reviews  \n",
       "1   https://www.imdb.com/user/ur31593185/reviews  \n",
       "2   https://www.imdb.com/user/ur84265114/reviews  \n",
       "3   https://www.imdb.com/user/ur60501911/reviews  \n",
       "4  https://www.imdb.com/user/ur101627855/reviews  "
      ]
     },
     "execution_count": 4,
     "metadata": {},
     "output_type": "execute_result"
    }
   ],
   "source": [
    "users = pd.read_csv('user_links.csv')\n",
    "users.head()"
   ]
  },
  {
   "cell_type": "code",
   "execution_count": 5,
   "metadata": {},
   "outputs": [
    {
     "data": {
      "text/html": [
       "<div>\n",
       "<style scoped>\n",
       "    .dataframe tbody tr th:only-of-type {\n",
       "        vertical-align: middle;\n",
       "    }\n",
       "\n",
       "    .dataframe tbody tr th {\n",
       "        vertical-align: top;\n",
       "    }\n",
       "\n",
       "    .dataframe thead th {\n",
       "        text-align: right;\n",
       "    }\n",
       "</style>\n",
       "<table border=\"1\" class=\"dataframe\">\n",
       "  <thead>\n",
       "    <tr style=\"text-align: right;\">\n",
       "      <th></th>\n",
       "      <th>index</th>\n",
       "      <th>user rating list</th>\n",
       "      <th>user review list</th>\n",
       "    </tr>\n",
       "  </thead>\n",
       "  <tbody>\n",
       "    <tr>\n",
       "      <th>139</th>\n",
       "      <td>994</td>\n",
       "      <td>https://www.imdb.com/user/ur91555233/ratings</td>\n",
       "      <td>https://www.imdb.com/user/ur91555233/reviews</td>\n",
       "    </tr>\n",
       "    <tr>\n",
       "      <th>140</th>\n",
       "      <td>995</td>\n",
       "      <td>https://www.imdb.com/user/ur68981404/ratings</td>\n",
       "      <td>https://www.imdb.com/user/ur68981404/reviews</td>\n",
       "    </tr>\n",
       "    <tr>\n",
       "      <th>141</th>\n",
       "      <td>996</td>\n",
       "      <td>https://www.imdb.com/user/ur92139946/ratings</td>\n",
       "      <td>https://www.imdb.com/user/ur92139946/reviews</td>\n",
       "    </tr>\n",
       "    <tr>\n",
       "      <th>142</th>\n",
       "      <td>997</td>\n",
       "      <td>https://www.imdb.com/user/ur99669382/ratings</td>\n",
       "      <td>https://www.imdb.com/user/ur99669382/reviews</td>\n",
       "    </tr>\n",
       "    <tr>\n",
       "      <th>143</th>\n",
       "      <td>998</td>\n",
       "      <td>https://www.imdb.com/user/ur32785137/ratings</td>\n",
       "      <td>https://www.imdb.com/user/ur32785137/reviews</td>\n",
       "    </tr>\n",
       "  </tbody>\n",
       "</table>\n",
       "</div>"
      ],
      "text/plain": [
       "     index                              user rating list  \\\n",
       "139    994  https://www.imdb.com/user/ur91555233/ratings   \n",
       "140    995  https://www.imdb.com/user/ur68981404/ratings   \n",
       "141    996  https://www.imdb.com/user/ur92139946/ratings   \n",
       "142    997  https://www.imdb.com/user/ur99669382/ratings   \n",
       "143    998  https://www.imdb.com/user/ur32785137/ratings   \n",
       "\n",
       "                                 user review list  \n",
       "139  https://www.imdb.com/user/ur91555233/reviews  \n",
       "140  https://www.imdb.com/user/ur68981404/reviews  \n",
       "141  https://www.imdb.com/user/ur92139946/reviews  \n",
       "142  https://www.imdb.com/user/ur99669382/reviews  \n",
       "143  https://www.imdb.com/user/ur32785137/reviews  "
      ]
     },
     "execution_count": 5,
     "metadata": {},
     "output_type": "execute_result"
    }
   ],
   "source": [
    "users.tail()"
   ]
  },
  {
   "cell_type": "code",
   "execution_count": 6,
   "metadata": {
    "scrolled": true
   },
   "outputs": [
    {
     "name": "stdout",
     "output_type": "stream",
     "text": [
      "the user doesnt have rating list  https://www.imdb.com/user/ur62723141/ratings\n",
      "the user doesnt have rating list  https://www.imdb.com/user/ur31593185/ratings\n",
      "the user doesnt have rating list  https://www.imdb.com/user/ur84265114/ratings\n",
      "the user doesnt have rating list  https://www.imdb.com/user/ur101627855/ratings\n",
      "the user doesnt have rating list  https://www.imdb.com/user/ur43378585/ratings\n",
      "the user doesnt have rating list  https://www.imdb.com/user/ur96968871/ratings\n",
      "the user doesnt have rating list  https://www.imdb.com/user/ur79943134/ratings\n",
      "the user doesnt have rating list  https://www.imdb.com/user/ur100610357/ratings\n",
      "the user doesnt have rating list  https://www.imdb.com/user/ur22636201/ratings\n",
      "the user doesnt have rating list  https://www.imdb.com/user/ur101384076/ratings\n",
      "the user doesnt have rating list  https://www.imdb.com/user/ur11320287/ratings\n",
      "the user doesnt have rating list  https://www.imdb.com/user/ur92139946/ratings\n",
      "the user doesnt have rating list  https://www.imdb.com/user/ur62847946/ratings\n",
      "the user doesnt have rating list  https://www.imdb.com/user/ur84068583/ratings\n",
      "the user doesnt have rating list  https://www.imdb.com/user/ur101350529/ratings\n",
      "the user doesnt have rating list  https://www.imdb.com/user/ur55931935/ratings\n",
      "the user doesnt have rating list  https://www.imdb.com/user/ur25585666/ratings\n",
      "the user doesnt have rating list  https://www.imdb.com/user/ur98226726/ratings\n",
      "the user doesnt have rating list  https://www.imdb.com/user/ur91884915/ratings\n",
      "the user doesnt have rating list  https://www.imdb.com/user/ur83468893/ratings\n",
      "the user doesnt have rating list  https://www.imdb.com/user/ur80189441/ratings\n",
      "the user doesnt have rating list  https://www.imdb.com/user/ur63535656/ratings\n",
      "the user doesnt have rating list  https://www.imdb.com/user/ur95009470/ratings\n",
      "the user doesnt have rating list  https://www.imdb.com/user/ur72304164/ratings\n",
      "the user doesnt have rating list  https://www.imdb.com/user/ur76533767/ratings\n",
      "the user doesnt have rating list  https://www.imdb.com/user/ur91758959/ratings\n",
      "the user doesnt have rating list  https://www.imdb.com/user/ur101306883/ratings\n",
      "the user doesnt have rating list  https://www.imdb.com/user/ur70432142/ratings\n",
      "the user doesnt have rating list  https://www.imdb.com/user/ur4783913/ratings\n",
      "the user doesnt have rating list  https://www.imdb.com/user/ur12839018/ratings\n",
      "the user doesnt have rating list  https://www.imdb.com/user/ur22240514/ratings\n",
      "the user doesnt have rating list  https://www.imdb.com/user/ur49581783/ratings\n",
      "the user doesnt have rating list  https://www.imdb.com/user/ur30459784/ratings\n",
      "the user doesnt have rating list  https://www.imdb.com/user/ur91411288/ratings\n",
      "the user doesnt have rating list  https://www.imdb.com/user/ur62830094/ratings\n",
      "the user doesnt have rating list  https://www.imdb.com/user/ur91363908/ratings\n",
      "the user doesnt have rating list  https://www.imdb.com/user/ur56270712/ratings\n",
      "the user doesnt have rating list  https://www.imdb.com/user/ur83246523/ratings\n",
      "the user doesnt have rating list  https://www.imdb.com/user/ur88828932/ratings\n",
      "the user doesnt have rating list  https://www.imdb.com/user/ur75548476/ratings\n",
      "the user doesnt have rating list  https://www.imdb.com/user/ur34121799/ratings\n",
      "the user doesnt have rating list  https://www.imdb.com/user/ur96993534/ratings\n",
      "the user doesnt have rating list  https://www.imdb.com/user/ur71085990/ratings\n",
      "the user doesnt have rating list  https://www.imdb.com/user/ur77661527/ratings\n",
      "the user doesnt have rating list  https://www.imdb.com/user/ur86987694/ratings\n",
      "the user doesnt have rating list  https://www.imdb.com/user/ur35184900/ratings\n",
      "the user doesnt have rating list  https://www.imdb.com/user/ur37506105/ratings\n",
      "the user doesnt have rating list  https://www.imdb.com/user/ur64557865/ratings\n",
      "the user doesnt have rating list  https://www.imdb.com/user/ur48503283/ratings\n",
      "the user doesnt have rating list  https://www.imdb.com/user/ur26153533/ratings\n",
      "the user doesnt have rating list  https://www.imdb.com/user/ur48464070/ratings\n",
      "the user doesnt have rating list  https://www.imdb.com/user/ur95542028/ratings\n",
      "the user doesnt have rating list  https://www.imdb.com/user/ur100825296/ratings\n",
      "the user doesnt have rating list  https://www.imdb.com/user/ur65396995/ratings\n",
      "the user doesnt have rating list  https://www.imdb.com/user/ur56772745/ratings\n",
      "the user doesnt have rating list  https://www.imdb.com/user/ur90300866/ratings\n",
      "the user doesnt have rating list  https://www.imdb.com/user/ur100386837/ratings\n",
      "the user doesnt have rating list  https://www.imdb.com/user/ur101273134/ratings\n",
      "the user doesnt have rating list  https://www.imdb.com/user/ur45975204/ratings\n",
      "the user doesnt have rating list  https://www.imdb.com/user/ur1126615/ratings\n",
      "the user doesnt have rating list  https://www.imdb.com/user/ur33693994/ratings\n",
      "the user doesnt have rating list  https://www.imdb.com/user/ur1776197/ratings\n",
      "the user doesnt have rating list  https://www.imdb.com/user/ur74961268/ratings\n",
      "the user doesnt have rating list  https://www.imdb.com/user/ur82426497/ratings\n",
      "the user doesnt have rating list  https://www.imdb.com/user/ur27155393/ratings\n",
      "the user doesnt have rating list  https://www.imdb.com/user/ur97487496/ratings\n",
      "the user doesnt have rating list  https://www.imdb.com/user/ur52442729/ratings\n",
      "the user doesnt have rating list  https://www.imdb.com/user/ur100368660/ratings\n",
      "the user doesnt have rating list  https://www.imdb.com/user/ur72817423/ratings\n",
      "the user doesnt have rating list  https://www.imdb.com/user/ur81989310/ratings\n",
      "the user doesnt have rating list  https://www.imdb.com/user/ur65004494/ratings\n",
      "the user doesnt have rating list  https://www.imdb.com/user/ur98654750/ratings\n",
      "the user doesnt have rating list  https://www.imdb.com/user/ur98645254/ratings\n",
      "the user doesnt have rating list  https://www.imdb.com/user/ur97760695/ratings\n",
      "the user doesnt have rating list  https://www.imdb.com/user/ur28279592/ratings\n",
      "the user doesnt have rating list  https://www.imdb.com/user/ur29035442/ratings\n",
      "the user doesnt have rating list  https://www.imdb.com/user/ur99602252/ratings\n",
      "the user doesnt have rating list  https://www.imdb.com/user/ur34422010/ratings\n",
      "the user doesnt have rating list  https://www.imdb.com/user/ur99480400/ratings\n",
      "the user doesnt have rating list  https://www.imdb.com/user/ur95644847/ratings\n",
      "the user doesnt have rating list  https://www.imdb.com/user/ur97664315/ratings\n",
      "the user doesnt have rating list  https://www.imdb.com/user/ur54798498/ratings\n",
      "the user doesnt have rating list  https://www.imdb.com/user/ur87711220/ratings\n",
      "the user doesnt have rating list  https://www.imdb.com/user/ur24608032/ratings\n",
      "the user doesnt have rating list  https://www.imdb.com/user/ur91555233/ratings\n",
      "the user doesnt have rating list  https://www.imdb.com/user/ur92139946/ratings\n",
      "the user doesnt have rating list  https://www.imdb.com/user/ur99669382/ratings\n"
     ]
    }
   ],
   "source": [
    "# check if the user has a list of ratings \n",
    "movie_names_list = []\n",
    "movie_ratings_list = []\n",
    "user_ratings_list = []\n",
    "genre_list = []\n",
    "need_review_list = []\n",
    "for link in users['user rating list'].values:\n",
    "    r = requests.get(link)\n",
    "    tree = lxml.html.fromstring(r.content)\n",
    "    try:\n",
    "        if len(tree.xpath('//*[@class=\"error_message\"]')) != 0:  # when there the user doesn't have a list of ratings\n",
    "            movie_names_list.append(np.nan)\n",
    "            movie_ratings_list.append(np.nan)\n",
    "            user_ratings_list.append(np.nan)\n",
    "            genre_list.append(np.nan)\n",
    "            need_review_list.append(link)\n",
    "            print('the user doesnt have rating list ',link)\n",
    "        else: # where the user rated a list of movies\n",
    "            movie_names = tree.xpath('//h3/a[contains(@href,\"/title/\")]/text()') \n",
    "            movie_genres = tree.xpath('//span[@class=\"genre\"]/text()') # if the genre include action, adventure, sci-fi, or fantasy we consider as a valid movie\n",
    "            movie_ratings = tree.xpath('//div[@class=\"ipl-rating-star small\"]/span[@class = \"ipl-rating-star__rating\"]/text()')\n",
    "            user_ratings = tree.xpath('//div[@class=\"ipl-rating-star ipl-rating-star--other-user small\"]/span[@class = \"ipl-rating-star__rating\"]/text()')\n",
    "            movie_names_list.append(movie_names)\n",
    "            movie_ratings_list.append(movie_ratings)\n",
    "            user_ratings_list.append(user_ratings)\n",
    "            genre_list.append(movie_genres)\n",
    "    except: \n",
    "        print('there is an error: ',link)\n"
   ]
  },
  {
   "cell_type": "code",
   "execution_count": 7,
   "metadata": {},
   "outputs": [
    {
     "data": {
      "text/plain": [
       "87"
      ]
     },
     "execution_count": 7,
     "metadata": {},
     "output_type": "execute_result"
    }
   ],
   "source": [
    "need_review = [string[:-7]+\"reviews\" for string in need_review_list]\n",
    "len(need_review)"
   ]
  },
  {
   "cell_type": "code",
   "execution_count": 8,
   "metadata": {
    "collapsed": true
   },
   "outputs": [],
   "source": [
    "movie_reviewed_list = []\n",
    "reviewed_rating_list = []\n",
    "for link in need_review:\n",
    "    r = requests.get(link)\n",
    "    tree = lxml.html.fromstring(r.content)\n",
    "    try:\n",
    "        movie_reviewed = tree.xpath('//div[@class = \"lister-item-header\"]/a[contains(@href,\"/title/\")]/text()')\n",
    "        rr = tree.xpath('//span[@class=\"rating-other-user-rating\"]/span/text()')[::2]\n",
    "        reviewed_rating = list(map(int, rr))\n",
    "        movie_reviewed_list.append(movie_reviewed)\n",
    "        reviewed_rating_list.append(reviewed_rating)\n",
    "        # no genre and overall movie rating available\n",
    "    except: \n",
    "        print('there is an error: ',link)"
   ]
  },
  {
   "cell_type": "code",
   "execution_count": 9,
   "metadata": {},
   "outputs": [
    {
     "data": {
      "text/plain": [
       "(87, ['Shazam!'], [1])"
      ]
     },
     "execution_count": 9,
     "metadata": {},
     "output_type": "execute_result"
    }
   ],
   "source": [
    "len(movie_reviewed_list),movie_reviewed_list[0],reviewed_rating_list[0]"
   ]
  },
  {
   "cell_type": "code",
   "execution_count": 10,
   "metadata": {
    "collapsed": true
   },
   "outputs": [],
   "source": [
    "from itertools import compress\n",
    "review_idx = pd.isnull(np.array(movie_names_list))\n",
    "idx = list(compress(range(len(review_idx)), review_idx)) "
   ]
  },
  {
   "cell_type": "code",
   "execution_count": 11,
   "metadata": {
    "collapsed": true
   },
   "outputs": [],
   "source": [
    "# build a movie corpus\n",
    "# first combine the two movie list (rating, review)\n",
    "for i in range(len(idx)):\n",
    "    index = idx[i]\n",
    "    movie_names_list[index] = movie_reviewed_list[i]\n",
    "    user_ratings_list[index] = reviewed_rating_list[i]"
   ]
  },
  {
   "cell_type": "code",
   "execution_count": 18,
   "metadata": {
    "collapsed": true
   },
   "outputs": [],
   "source": [
    "user_ratings_list = [list(map(int, strings)) for strings in user_ratings_list]"
   ]
  },
  {
   "cell_type": "code",
   "execution_count": 41,
   "metadata": {},
   "outputs": [
    {
     "data": {
      "text/plain": [
       "(['Shazam!'], [1])"
      ]
     },
     "execution_count": 41,
     "metadata": {},
     "output_type": "execute_result"
    }
   ],
   "source": [
    "movie_names_list[0],user_ratings_list[0] #FUCK@!"
   ]
  },
  {
   "cell_type": "code",
   "execution_count": 73,
   "metadata": {},
   "outputs": [
    {
     "data": {
      "text/plain": [
       "144"
      ]
     },
     "execution_count": 73,
     "metadata": {},
     "output_type": "execute_result"
    }
   ],
   "source": [
    "len(movie_names_list)"
   ]
  },
  {
   "cell_type": "code",
   "execution_count": 14,
   "metadata": {
    "collapsed": true
   },
   "outputs": [],
   "source": [
    "# out pute movie_name_list, and user_ratings_list\n",
    "with open('movie_reviewd_each_user.txt', 'w') as f:\n",
    "    for item in movie_names_list:\n",
    "        f.write(\"%s\\n\" % item)"
   ]
  },
  {
   "cell_type": "code",
   "execution_count": 21,
   "metadata": {
    "collapsed": true
   },
   "outputs": [],
   "source": [
    "with open('movie_ratings_each_user.txt', 'w') as f:\n",
    "    for item in user_ratings_list:\n",
    "        f.write(\"%s\\n\" % item)"
   ]
  },
  {
   "cell_type": "code",
   "execution_count": 16,
   "metadata": {
    "collapsed": true
   },
   "outputs": [],
   "source": [
    "with open('movie_ratings.txt', 'w') as f:\n",
    "    for item in movie_ratings_list:\n",
    "        f.write(\"%s\\n\" % item)"
   ]
  },
  {
   "cell_type": "code",
   "execution_count": 17,
   "metadata": {
    "collapsed": true
   },
   "outputs": [],
   "source": [
    "with open('movie_genres.txt', 'w') as f:\n",
    "    for item in genre_list:\n",
    "        f.write(\"%s\\n\" % item)"
   ]
  },
  {
   "cell_type": "code",
   "execution_count": 22,
   "metadata": {
    "collapsed": true
   },
   "outputs": [],
   "source": [
    "unique_movies, count = np.unique(list(itertools.chain.from_iterable(movie_names_list)),return_counts = True)"
   ]
  },
  {
   "cell_type": "code",
   "execution_count": 23,
   "metadata": {},
   "outputs": [
    {
     "data": {
      "text/plain": [
       "3188"
      ]
     },
     "execution_count": 23,
     "metadata": {},
     "output_type": "execute_result"
    }
   ],
   "source": [
    "len(unique_movies) # there are 3188 unique movies reviewed in total"
   ]
  },
  {
   "cell_type": "code",
   "execution_count": 233,
   "metadata": {
    "scrolled": true
   },
   "outputs": [
    {
     "data": {
      "text/html": [
       "<div>\n",
       "<style scoped>\n",
       "    .dataframe tbody tr th:only-of-type {\n",
       "        vertical-align: middle;\n",
       "    }\n",
       "\n",
       "    .dataframe tbody tr th {\n",
       "        vertical-align: top;\n",
       "    }\n",
       "\n",
       "    .dataframe thead th {\n",
       "        text-align: right;\n",
       "    }\n",
       "</style>\n",
       "<table border=\"1\" class=\"dataframe\">\n",
       "  <thead>\n",
       "    <tr style=\"text-align: right;\">\n",
       "      <th></th>\n",
       "      <th>index</th>\n",
       "      <th>movie_name</th>\n",
       "      <th>num_ratings</th>\n",
       "    </tr>\n",
       "  </thead>\n",
       "  <tbody>\n",
       "    <tr>\n",
       "      <th>0</th>\n",
       "      <td>24</td>\n",
       "      <td>Game of Thrones</td>\n",
       "      <td>109</td>\n",
       "    </tr>\n",
       "    <tr>\n",
       "      <th>1</th>\n",
       "      <td>2078</td>\n",
       "      <td>Shazam!</td>\n",
       "      <td>65</td>\n",
       "    </tr>\n",
       "    <tr>\n",
       "      <th>2</th>\n",
       "      <td>10</td>\n",
       "      <td>Burn Notice</td>\n",
       "      <td>46</td>\n",
       "    </tr>\n",
       "    <tr>\n",
       "      <th>3</th>\n",
       "      <td>323</td>\n",
       "      <td>Avengers: Endgame</td>\n",
       "      <td>41</td>\n",
       "    </tr>\n",
       "    <tr>\n",
       "      <th>4</th>\n",
       "      <td>521</td>\n",
       "      <td>Captain Marvel</td>\n",
       "      <td>38</td>\n",
       "    </tr>\n",
       "    <tr>\n",
       "      <th>5</th>\n",
       "      <td>70</td>\n",
       "      <td>The Originals</td>\n",
       "      <td>38</td>\n",
       "    </tr>\n",
       "    <tr>\n",
       "      <th>6</th>\n",
       "      <td>324</td>\n",
       "      <td>Avengers: Infinity War</td>\n",
       "      <td>33</td>\n",
       "    </tr>\n",
       "    <tr>\n",
       "      <th>7</th>\n",
       "      <td>77</td>\n",
       "      <td>X Club Wrestling</td>\n",
       "      <td>32</td>\n",
       "    </tr>\n",
       "    <tr>\n",
       "      <th>8</th>\n",
       "      <td>2964</td>\n",
       "      <td>Triple Frontier</td>\n",
       "      <td>31</td>\n",
       "    </tr>\n",
       "    <tr>\n",
       "      <th>9</th>\n",
       "      <td>1166</td>\n",
       "      <td>How to Train Your Dragon: The Hidden World</td>\n",
       "      <td>31</td>\n",
       "    </tr>\n",
       "    <tr>\n",
       "      <th>10</th>\n",
       "      <td>1027</td>\n",
       "      <td>Glass</td>\n",
       "      <td>30</td>\n",
       "    </tr>\n",
       "    <tr>\n",
       "      <th>11</th>\n",
       "      <td>282</td>\n",
       "      <td>Aquaman</td>\n",
       "      <td>25</td>\n",
       "    </tr>\n",
       "    <tr>\n",
       "      <th>12</th>\n",
       "      <td>3016</td>\n",
       "      <td>Us</td>\n",
       "      <td>22</td>\n",
       "    </tr>\n",
       "    <tr>\n",
       "      <th>13</th>\n",
       "      <td>2179</td>\n",
       "      <td>Spider-Man: Into the Spider-Verse</td>\n",
       "      <td>22</td>\n",
       "    </tr>\n",
       "    <tr>\n",
       "      <th>14</th>\n",
       "      <td>1056</td>\n",
       "      <td>Green Book</td>\n",
       "      <td>22</td>\n",
       "    </tr>\n",
       "    <tr>\n",
       "      <th>15</th>\n",
       "      <td>3031</td>\n",
       "      <td>Venom</td>\n",
       "      <td>21</td>\n",
       "    </tr>\n",
       "    <tr>\n",
       "      <th>16</th>\n",
       "      <td>36</td>\n",
       "      <td>Love, Death &amp; Robots</td>\n",
       "      <td>19</td>\n",
       "    </tr>\n",
       "    <tr>\n",
       "      <th>17</th>\n",
       "      <td>496</td>\n",
       "      <td>Bumblebee</td>\n",
       "      <td>19</td>\n",
       "    </tr>\n",
       "    <tr>\n",
       "      <th>18</th>\n",
       "      <td>450</td>\n",
       "      <td>Bohemian Rhapsody</td>\n",
       "      <td>18</td>\n",
       "    </tr>\n",
       "    <tr>\n",
       "      <th>19</th>\n",
       "      <td>211</td>\n",
       "      <td>Alita: Battle Angel</td>\n",
       "      <td>18</td>\n",
       "    </tr>\n",
       "    <tr>\n",
       "      <th>20</th>\n",
       "      <td>1115</td>\n",
       "      <td>Hellboy</td>\n",
       "      <td>16</td>\n",
       "    </tr>\n",
       "    <tr>\n",
       "      <th>21</th>\n",
       "      <td>72</td>\n",
       "      <td>The Walking Dead</td>\n",
       "      <td>16</td>\n",
       "    </tr>\n",
       "    <tr>\n",
       "      <th>22</th>\n",
       "      <td>1084</td>\n",
       "      <td>Happy Death Day 2U</td>\n",
       "      <td>14</td>\n",
       "    </tr>\n",
       "    <tr>\n",
       "      <th>23</th>\n",
       "      <td>2736</td>\n",
       "      <td>The Predator</td>\n",
       "      <td>14</td>\n",
       "    </tr>\n",
       "    <tr>\n",
       "      <th>24</th>\n",
       "      <td>1828</td>\n",
       "      <td>Pet Sematary</td>\n",
       "      <td>14</td>\n",
       "    </tr>\n",
       "    <tr>\n",
       "      <th>25</th>\n",
       "      <td>1582</td>\n",
       "      <td>Mission: Impossible - Fallout</td>\n",
       "      <td>14</td>\n",
       "    </tr>\n",
       "    <tr>\n",
       "      <th>26</th>\n",
       "      <td>6</td>\n",
       "      <td>Barry</td>\n",
       "      <td>14</td>\n",
       "    </tr>\n",
       "    <tr>\n",
       "      <th>27</th>\n",
       "      <td>2207</td>\n",
       "      <td>Star Wars: Episode VIII - The Last Jedi</td>\n",
       "      <td>14</td>\n",
       "    </tr>\n",
       "    <tr>\n",
       "      <th>28</th>\n",
       "      <td>3034</td>\n",
       "      <td>Vice</td>\n",
       "      <td>13</td>\n",
       "    </tr>\n",
       "    <tr>\n",
       "      <th>29</th>\n",
       "      <td>927</td>\n",
       "      <td>First Man</td>\n",
       "      <td>13</td>\n",
       "    </tr>\n",
       "    <tr>\n",
       "      <th>30</th>\n",
       "      <td>713</td>\n",
       "      <td>Deadpool 2</td>\n",
       "      <td>13</td>\n",
       "    </tr>\n",
       "    <tr>\n",
       "      <th>31</th>\n",
       "      <td>338</td>\n",
       "      <td>Bad Times at the El Royale</td>\n",
       "      <td>12</td>\n",
       "    </tr>\n",
       "    <tr>\n",
       "      <th>32</th>\n",
       "      <td>150</td>\n",
       "      <td>A Star Is Born</td>\n",
       "      <td>12</td>\n",
       "    </tr>\n",
       "    <tr>\n",
       "      <th>33</th>\n",
       "      <td>33</td>\n",
       "      <td>Jessica Jones</td>\n",
       "      <td>12</td>\n",
       "    </tr>\n",
       "    <tr>\n",
       "      <th>34</th>\n",
       "      <td>2468</td>\n",
       "      <td>The Favourite</td>\n",
       "      <td>12</td>\n",
       "    </tr>\n",
       "    <tr>\n",
       "      <th>35</th>\n",
       "      <td>2146</td>\n",
       "      <td>Solo: A Star Wars Story</td>\n",
       "      <td>12</td>\n",
       "    </tr>\n",
       "    <tr>\n",
       "      <th>36</th>\n",
       "      <td>9</td>\n",
       "      <td>Brooklyn Nine-Nine</td>\n",
       "      <td>12</td>\n",
       "    </tr>\n",
       "    <tr>\n",
       "      <th>37</th>\n",
       "      <td>273</td>\n",
       "      <td>Ant-Man and the Wasp</td>\n",
       "      <td>11</td>\n",
       "    </tr>\n",
       "    <tr>\n",
       "      <th>38</th>\n",
       "      <td>1985</td>\n",
       "      <td>Roma</td>\n",
       "      <td>11</td>\n",
       "    </tr>\n",
       "    <tr>\n",
       "      <th>39</th>\n",
       "      <td>67</td>\n",
       "      <td>The Flash:</td>\n",
       "      <td>11</td>\n",
       "    </tr>\n",
       "    <tr>\n",
       "      <th>40</th>\n",
       "      <td>266</td>\n",
       "      <td>Annihilation</td>\n",
       "      <td>11</td>\n",
       "    </tr>\n",
       "    <tr>\n",
       "      <th>41</th>\n",
       "      <td>14</td>\n",
       "      <td>Combat!</td>\n",
       "      <td>11</td>\n",
       "    </tr>\n",
       "    <tr>\n",
       "      <th>42</th>\n",
       "      <td>1309</td>\n",
       "      <td>Jurassic World: Fallen Kingdom</td>\n",
       "      <td>11</td>\n",
       "    </tr>\n",
       "    <tr>\n",
       "      <th>43</th>\n",
       "      <td>31</td>\n",
       "      <td>House of Cards</td>\n",
       "      <td>11</td>\n",
       "    </tr>\n",
       "    <tr>\n",
       "      <th>44</th>\n",
       "      <td>2621</td>\n",
       "      <td>The Lego Movie 2: The Second Part</td>\n",
       "      <td>11</td>\n",
       "    </tr>\n",
       "    <tr>\n",
       "      <th>45</th>\n",
       "      <td>1918</td>\n",
       "      <td>Ralph Breaks the Internet</td>\n",
       "      <td>11</td>\n",
       "    </tr>\n",
       "    <tr>\n",
       "      <th>46</th>\n",
       "      <td>412</td>\n",
       "      <td>Black Panther</td>\n",
       "      <td>11</td>\n",
       "    </tr>\n",
       "    <tr>\n",
       "      <th>47</th>\n",
       "      <td>142</td>\n",
       "      <td>A Quiet Place</td>\n",
       "      <td>11</td>\n",
       "    </tr>\n",
       "    <tr>\n",
       "      <th>48</th>\n",
       "      <td>1072</td>\n",
       "      <td>Halloween</td>\n",
       "      <td>10</td>\n",
       "    </tr>\n",
       "    <tr>\n",
       "      <th>49</th>\n",
       "      <td>76</td>\n",
       "      <td>Whiskey Cavalier</td>\n",
       "      <td>10</td>\n",
       "    </tr>\n",
       "    <tr>\n",
       "      <th>50</th>\n",
       "      <td>821</td>\n",
       "      <td>Dumbo</td>\n",
       "      <td>10</td>\n",
       "    </tr>\n",
       "    <tr>\n",
       "      <th>51</th>\n",
       "      <td>1528</td>\n",
       "      <td>Mary Poppins Returns</td>\n",
       "      <td>10</td>\n",
       "    </tr>\n",
       "    <tr>\n",
       "      <th>52</th>\n",
       "      <td>917</td>\n",
       "      <td>Fighting with My Family</td>\n",
       "      <td>10</td>\n",
       "    </tr>\n",
       "    <tr>\n",
       "      <th>53</th>\n",
       "      <td>13</td>\n",
       "      <td>Cobra Kai</td>\n",
       "      <td>10</td>\n",
       "    </tr>\n",
       "    <tr>\n",
       "      <th>54</th>\n",
       "      <td>399</td>\n",
       "      <td>Bird Box</td>\n",
       "      <td>10</td>\n",
       "    </tr>\n",
       "    <tr>\n",
       "      <th>55</th>\n",
       "      <td>2045</td>\n",
       "      <td>Searching</td>\n",
       "      <td>10</td>\n",
       "    </tr>\n",
       "    <tr>\n",
       "      <th>56</th>\n",
       "      <td>3</td>\n",
       "      <td>Arrow:</td>\n",
       "      <td>10</td>\n",
       "    </tr>\n",
       "    <tr>\n",
       "      <th>57</th>\n",
       "      <td>1220</td>\n",
       "      <td>Incredibles 2</td>\n",
       "      <td>10</td>\n",
       "    </tr>\n",
       "    <tr>\n",
       "      <th>58</th>\n",
       "      <td>1241</td>\n",
       "      <td>Instant Family</td>\n",
       "      <td>10</td>\n",
       "    </tr>\n",
       "  </tbody>\n",
       "</table>\n",
       "</div>"
      ],
      "text/plain": [
       "    index                                  movie_name num_ratings\n",
       "0      24                             Game of Thrones         109\n",
       "1    2078                                     Shazam!          65\n",
       "2      10                                 Burn Notice          46\n",
       "3     323                           Avengers: Endgame          41\n",
       "4     521                              Captain Marvel          38\n",
       "5      70                               The Originals          38\n",
       "6     324                      Avengers: Infinity War          33\n",
       "7      77                            X Club Wrestling          32\n",
       "8    2964                             Triple Frontier          31\n",
       "9    1166  How to Train Your Dragon: The Hidden World          31\n",
       "10   1027                                       Glass          30\n",
       "11    282                                     Aquaman          25\n",
       "12   3016                                          Us          22\n",
       "13   2179           Spider-Man: Into the Spider-Verse          22\n",
       "14   1056                                  Green Book          22\n",
       "15   3031                                       Venom          21\n",
       "16     36                        Love, Death & Robots          19\n",
       "17    496                                   Bumblebee          19\n",
       "18    450                           Bohemian Rhapsody          18\n",
       "19    211                         Alita: Battle Angel          18\n",
       "20   1115                                     Hellboy          16\n",
       "21     72                            The Walking Dead          16\n",
       "22   1084                          Happy Death Day 2U          14\n",
       "23   2736                                The Predator          14\n",
       "24   1828                                Pet Sematary          14\n",
       "25   1582               Mission: Impossible - Fallout          14\n",
       "26      6                                       Barry          14\n",
       "27   2207     Star Wars: Episode VIII - The Last Jedi          14\n",
       "28   3034                                        Vice          13\n",
       "29    927                                   First Man          13\n",
       "30    713                                  Deadpool 2          13\n",
       "31    338                  Bad Times at the El Royale          12\n",
       "32    150                              A Star Is Born          12\n",
       "33     33                               Jessica Jones          12\n",
       "34   2468                               The Favourite          12\n",
       "35   2146                     Solo: A Star Wars Story          12\n",
       "36      9                          Brooklyn Nine-Nine          12\n",
       "37    273                        Ant-Man and the Wasp          11\n",
       "38   1985                                        Roma          11\n",
       "39     67                                  The Flash:          11\n",
       "40    266                                Annihilation          11\n",
       "41     14                                     Combat!          11\n",
       "42   1309              Jurassic World: Fallen Kingdom          11\n",
       "43     31                              House of Cards          11\n",
       "44   2621           The Lego Movie 2: The Second Part          11\n",
       "45   1918                   Ralph Breaks the Internet          11\n",
       "46    412                               Black Panther          11\n",
       "47    142                               A Quiet Place          11\n",
       "48   1072                                   Halloween          10\n",
       "49     76                            Whiskey Cavalier          10\n",
       "50    821                                       Dumbo          10\n",
       "51   1528                        Mary Poppins Returns          10\n",
       "52    917                     Fighting with My Family          10\n",
       "53     13                                   Cobra Kai          10\n",
       "54    399                                    Bird Box          10\n",
       "55   2045                                   Searching          10\n",
       "56      3                                      Arrow:          10\n",
       "57   1220                               Incredibles 2          10\n",
       "58   1241                              Instant Family          10"
      ]
     },
     "execution_count": 233,
     "metadata": {},
     "output_type": "execute_result"
    }
   ],
   "source": [
    "# build a dataframe with movies and number of ratings\n",
    "df = pd.DataFrame([unique_movies, count]).T\n",
    "df.columns = ['movie_name','num_ratings']\n",
    "df = df.sort_values(by = 'num_ratings', ascending = False)\n",
    "df = df[df.num_ratings >= 10]\n",
    "df.reset_index(inplace=True)\n",
    "df"
   ]
  },
  {
   "cell_type": "code",
   "execution_count": 234,
   "metadata": {},
   "outputs": [
    {
     "data": {
      "text/plain": [
       "59"
      ]
     },
     "execution_count": 234,
     "metadata": {},
     "output_type": "execute_result"
    }
   ],
   "source": [
    "len(df) # only 48 movies that have at least 10 ratings; there are 144 reviewers in total "
   ]
  },
  {
   "cell_type": "code",
   "execution_count": 235,
   "metadata": {
    "collapsed": true
   },
   "outputs": [],
   "source": [
    "df.to_csv('df.csv')"
   ]
  },
  {
   "cell_type": "code",
   "execution_count": 207,
   "metadata": {},
   "outputs": [
    {
     "data": {
      "text/plain": [
       "array([[0., 0., 0., ..., 0., 0., 0.],\n",
       "       [0., 0., 0., ..., 0., 0., 0.],\n",
       "       [0., 0., 0., ..., 0., 0., 0.],\n",
       "       ...,\n",
       "       [0., 0., 0., ..., 0., 0., 0.],\n",
       "       [0., 0., 0., ..., 0., 0., 0.],\n",
       "       [0., 0., 0., ..., 0., 0., 0.]])"
      ]
     },
     "execution_count": 207,
     "metadata": {},
     "output_type": "execute_result"
    }
   ],
   "source": [
    "# initialize the corpus\n",
    "movie_corpus = np.zeros((len(movie_names_list),len(df)))\n",
    "movie_corpus"
   ]
  },
  {
   "cell_type": "code",
   "execution_count": 208,
   "metadata": {},
   "outputs": [
    {
     "data": {
      "text/plain": [
       "[' Game of Thrones',\n",
       " 'Shazam!',\n",
       " ' Burn Notice',\n",
       " 'Avengers: Endgame',\n",
       " 'Captain Marvel',\n",
       " ' The Originals',\n",
       " 'Avengers: Infinity War',\n",
       " ' X Club Wrestling',\n",
       " 'Triple Frontier',\n",
       " 'How to Train Your Dragon: The Hidden World']"
      ]
     },
     "execution_count": 208,
     "metadata": {},
     "output_type": "execute_result"
    }
   ],
   "source": [
    "a = list(df.movie_name.values)   # unique_movie\n",
    "a[:10]"
   ]
  },
  {
   "cell_type": "code",
   "execution_count": 209,
   "metadata": {},
   "outputs": [],
   "source": [
    "# finally, let's build the movie corpus\n",
    "# for j in range(len(movie_names_list)):\n",
    "a = list(df.movie_name.values) \n",
    "for j in range(len(movie_names_list)):\n",
    "# for j in range(50,70):\n",
    "    b = movie_names_list[j]  # b is a list contains all movies that userj has rated\n",
    "    matched_movie = np.where(np.in1d(a,b))[0]  # return index in a for value in b that match values in a\n",
    "#     matched_rating = np.where(np.in1d(b,a))[0]\n",
    "    mm_name = [a[mm] for mm in matched_movie]\n",
    "#     print(mm_name)\n",
    "    mat_rating = [b.index(f) for f in mm_name]\n",
    "    matched_rating = [x for x in mat_rating if x < len(user_ratings_list[j])]\n",
    "    bb = [b[hhh] for hhh in matched_rating]\n",
    "    matched_movie = np.where(np.in1d(a,bb))[0]\n",
    "    \n",
    "#     print((matched_rating), (user_ratings_list[j]))\n",
    "#     print(len(matched_rating), len(user_ratings_list[j]))\n",
    "#     print(matched_movie,matched_rating)\n",
    "#     print(len(matched_movie)==len(matched_rating))\n",
    "    movie_corpus[j,matched_movie] = [user_ratings_list[j][mr] for mr in matched_rating]  # update the ratings for each pair of user and movie \n",
    "#     break\n",
    "# print(movie_corpus)"
   ]
  },
  {
   "cell_type": "code",
   "execution_count": 210,
   "metadata": {},
   "outputs": [
    {
     "data": {
      "text/plain": [
       "array([[0., 9., 0., ..., 0., 0., 0.],\n",
       "       [7., 0., 3., ..., 0., 0., 0.],\n",
       "       [0., 0., 0., ..., 0., 0., 0.],\n",
       "       [0., 0., 0., ..., 0., 0., 0.],\n",
       "       [8., 0., 0., ..., 0., 0., 9.]])"
      ]
     },
     "execution_count": 210,
     "metadata": {},
     "output_type": "execute_result"
    }
   ],
   "source": [
    "movie_corpus[70:75]"
   ]
  },
  {
   "cell_type": "code",
   "execution_count": 110,
   "metadata": {},
   "outputs": [],
   "source": [
    "np.savetxt(\"movie_corpus.txt\", movie_corpus, fmt=\"%s\") #太他妈不容易了。。。都是什么鬼。。。"
   ]
  },
  {
   "cell_type": "code",
   "execution_count": 211,
   "metadata": {},
   "outputs": [],
   "source": [
    "# calculate the user similarity using the movie corpus\n",
    "from sklearn.metrics.pairwise import cosine_similarity as cs\n",
    "corpus_sim = cs(movie_corpus)"
   ]
  },
  {
   "cell_type": "code",
   "execution_count": 212,
   "metadata": {},
   "outputs": [
    {
     "data": {
      "text/plain": [
       "array([[1.        , 0.09166985, 1.        , ..., 0.14142136, 0.        ,\n",
       "        0.        ],\n",
       "       [0.09166985, 1.        , 0.09166985, ..., 0.01296407, 0.        ,\n",
       "        0.0140195 ],\n",
       "       [1.        , 0.09166985, 1.        , ..., 0.14142136, 0.        ,\n",
       "        0.        ],\n",
       "       ...,\n",
       "       [0.14142136, 0.01296407, 0.14142136, ..., 1.        , 0.16970563,\n",
       "        0.29352601],\n",
       "       [0.        , 0.        , 0.        , ..., 0.16970563, 1.        ,\n",
       "        0.13108688],\n",
       "       [0.        , 0.0140195 , 0.        , ..., 0.29352601, 0.13108688,\n",
       "        1.        ]])"
      ]
     },
     "execution_count": 212,
     "metadata": {},
     "output_type": "execute_result"
    }
   ],
   "source": [
    "corpus_sim"
   ]
  },
  {
   "cell_type": "code",
   "execution_count": 213,
   "metadata": {},
   "outputs": [
    {
     "data": {
      "text/plain": [
       "(144, 144)"
      ]
     },
     "execution_count": 213,
     "metadata": {},
     "output_type": "execute_result"
    }
   ],
   "source": [
    "corpus_sim.shape"
   ]
  },
  {
   "cell_type": "code",
   "execution_count": 113,
   "metadata": {},
   "outputs": [],
   "source": [
    "np.savetxt(\"corpus_sim.txt\", corpus_sim, fmt=\"%s\") #曙光在前了。。。"
   ]
  },
  {
   "cell_type": "code",
   "execution_count": 220,
   "metadata": {
    "collapsed": true
   },
   "outputs": [],
   "source": [
    "def comparison(sim_matrix, user_index, movie_corpus = movie_corpus):\n",
    "    user = sim_matrix[user_index]\n",
    "    sim_user = np.where(user == max(np.delete(user, user_index, 0)))\n",
    "#     print(sim_user)\n",
    "    # similary user\n",
    "    top_movie_index = [u.argsort()[-5:][::-1] for u in movie_corpus[sim_users]][0]\n",
    "    sim_user_top_movie = [a[movie] for movie in top_movie_index]\n",
    "    # self movie\n",
    "    self_movie_index  = [movie_corpus[user_index].argsort()[-5:][::-1]][0]\n",
    "    self_top_movie = [a[m] for m in self_movie_index]\n",
    "    # overlap rate\n",
    "    overlap = len(set(self_top_movie) & set(sim_user_top_movie))\n",
    "#     print('self','sim_user')\n",
    "    return overlap, self_top_movie, sim_user_top_movie"
   ]
  },
  {
   "cell_type": "code",
   "execution_count": 225,
   "metadata": {},
   "outputs": [
    {
     "name": "stdout",
     "output_type": "stream",
     "text": [
      "0\n",
      "0\n",
      "0\n",
      "1\n",
      "0\n",
      "0\n",
      "0\n",
      "0\n",
      "1\n",
      "1\n",
      "0\n",
      "0\n",
      "0\n",
      "0\n",
      "0\n",
      "0\n",
      "0\n",
      "1\n",
      "0\n",
      "0\n",
      "0\n",
      "0\n",
      "0\n",
      "0\n",
      "0\n",
      "0\n",
      "0\n",
      "0\n",
      "0\n",
      "0\n",
      "1\n",
      "0\n",
      "5\n",
      "0\n",
      "0\n",
      "0\n",
      "0\n",
      "0\n",
      "1\n",
      "1\n",
      "0\n",
      "0\n",
      "0\n",
      "0\n",
      "0\n",
      "0\n",
      "0\n",
      "0\n",
      "0\n",
      "0\n",
      "0\n",
      "0\n",
      "1\n",
      "0\n",
      "2\n",
      "0\n",
      "1\n",
      "0\n",
      "0\n",
      "0\n",
      "1\n",
      "0\n",
      "0\n",
      "0\n",
      "0\n",
      "0\n",
      "0\n",
      "0\n",
      "0\n",
      "0\n",
      "1\n",
      "0\n",
      "0\n",
      "0\n",
      "0\n",
      "0\n",
      "0\n",
      "1\n",
      "0\n",
      "0\n",
      "1\n",
      "0\n",
      "0\n",
      "0\n",
      "0\n",
      "0\n",
      "1\n",
      "0\n",
      "0\n",
      "0\n",
      "0\n",
      "0\n",
      "0\n",
      "0\n",
      "0\n",
      "0\n",
      "0\n",
      "0\n",
      "0\n",
      "0\n",
      "0\n",
      "0\n",
      "0\n",
      "0\n",
      "0\n",
      "0\n",
      "0\n",
      "0\n",
      "1\n",
      "0\n",
      "2\n",
      "0\n",
      "0\n",
      "0\n",
      "0\n",
      "0\n",
      "0\n",
      "0\n",
      "0\n",
      "0\n",
      "0\n",
      "0\n",
      "0\n",
      "0\n",
      "0\n",
      "0\n",
      "0\n",
      "0\n",
      "0\n",
      "0\n",
      "0\n",
      "0\n",
      "0\n",
      "0\n",
      "0\n",
      "0\n",
      "0\n",
      "0\n",
      "0\n",
      "0\n",
      "0\n",
      "0\n",
      "0\n",
      "0\n",
      "24\n"
     ]
    }
   ],
   "source": [
    "# use traditional similariry matrix\n",
    "corpus_sim_performance = 0\n",
    "for i in range(len(corpus_sim)):\n",
    "    overlap, self_top_movie, sim_user_top_movie = comparison(corpus_sim, i)\n",
    "    corpus_sim_performance+= overlap\n",
    "print(corpus_sim_performance)"
   ]
  },
  {
   "cell_type": "code",
   "execution_count": 224,
   "metadata": {},
   "outputs": [
    {
     "name": "stdout",
     "output_type": "stream",
     "text": [
      "0\n",
      "0\n",
      "0\n",
      "1\n",
      "0\n",
      "0\n",
      "0\n",
      "0\n",
      "1\n",
      "1\n",
      "0\n",
      "0\n",
      "0\n",
      "0\n",
      "0\n",
      "0\n",
      "0\n",
      "1\n",
      "0\n",
      "0\n",
      "0\n",
      "0\n",
      "0\n",
      "0\n",
      "0\n",
      "0\n",
      "0\n",
      "0\n",
      "0\n",
      "0\n",
      "1\n",
      "0\n",
      "5\n",
      "0\n",
      "0\n",
      "0\n",
      "0\n",
      "0\n",
      "1\n",
      "1\n",
      "0\n",
      "0\n",
      "0\n",
      "0\n",
      "0\n",
      "0\n",
      "0\n",
      "0\n",
      "0\n",
      "0\n",
      "0\n",
      "0\n",
      "1\n",
      "0\n",
      "2\n",
      "0\n",
      "1\n",
      "0\n",
      "0\n",
      "0\n",
      "1\n",
      "0\n",
      "0\n",
      "0\n",
      "0\n",
      "0\n",
      "0\n",
      "0\n",
      "0\n",
      "0\n",
      "1\n",
      "0\n",
      "0\n",
      "0\n",
      "0\n",
      "0\n",
      "0\n",
      "1\n",
      "0\n",
      "0\n",
      "1\n",
      "0\n",
      "0\n",
      "0\n",
      "0\n",
      "0\n",
      "1\n",
      "0\n",
      "0\n",
      "0\n",
      "0\n",
      "0\n",
      "0\n",
      "0\n",
      "0\n",
      "0\n",
      "0\n",
      "0\n",
      "0\n",
      "0\n",
      "0\n",
      "0\n",
      "0\n",
      "0\n",
      "0\n",
      "0\n",
      "0\n",
      "0\n",
      "1\n",
      "0\n",
      "2\n",
      "0\n",
      "0\n",
      "0\n",
      "0\n",
      "0\n",
      "0\n",
      "0\n",
      "0\n",
      "0\n",
      "0\n",
      "0\n",
      "0\n",
      "0\n",
      "0\n",
      "0\n",
      "0\n",
      "0\n",
      "0\n",
      "0\n",
      "0\n",
      "0\n",
      "0\n",
      "0\n",
      "0\n",
      "0\n",
      "0\n",
      "0\n",
      "0\n",
      "0\n",
      "0\n",
      "0\n",
      "0\n",
      "0\n",
      "24\n"
     ]
    }
   ],
   "source": [
    "# use weighting similarity matrix\n",
    "weight_sim_performance = 0\n",
    "for i in range(144):\n",
    "    overlap, self_top_movie, sim_user_top_movie =comparison(weight_sim, i)\n",
    "    weight_sim_performance+= overlap\n",
    "print(weight_sim_performance)"
   ]
  },
  {
   "cell_type": "code",
   "execution_count": 223,
   "metadata": {},
   "outputs": [
    {
     "data": {
      "text/plain": [
       "array([[1.        , 0.99999914, 0.99999987, ..., 0.99998963, 0.99998963,\n",
       "        0.99998963],\n",
       "       [0.99999914, 1.        , 0.99999964, ..., 0.99999009, 0.99999009,\n",
       "        0.99999009],\n",
       "       [0.99999987, 0.99999964, 1.        , ..., 0.99999014, 0.99999014,\n",
       "        0.99999014],\n",
       "       ...,\n",
       "       [0.99998963, 0.99999009, 0.99999014, ..., 1.        , 1.        ,\n",
       "        1.        ],\n",
       "       [0.99998963, 0.99999009, 0.99999014, ..., 1.        , 1.        ,\n",
       "        1.        ],\n",
       "       [0.99998963, 0.99999009, 0.99999014, ..., 1.        , 1.        ,\n",
       "        1.        ]])"
      ]
     },
     "execution_count": 223,
     "metadata": {},
     "output_type": "execute_result"
    }
   ],
   "source": [
    "weight_sim"
   ]
  },
  {
   "cell_type": "markdown",
   "metadata": {},
   "source": [
    "# end ============================"
   ]
  },
  {
   "cell_type": "code",
   "execution_count": 138,
   "metadata": {},
   "outputs": [
    {
     "data": {
      "text/plain": [
       "(array([32]),)"
      ]
     },
     "execution_count": 138,
     "metadata": {},
     "output_type": "execute_result"
    }
   ],
   "source": [
    "# Now vadilate the result \n",
    "# 1. randomly choosing a person, find the most (2nd since the person itself will be always the most simialry)similary person\n",
    "tmp = corpus_sim[3]\n",
    "sim_users = np.where(tmp == max(np.delete(tmp, 3, 0)))\n",
    "sim_users"
   ]
  },
  {
   "cell_type": "code",
   "execution_count": 139,
   "metadata": {},
   "outputs": [
    {
     "data": {
      "text/plain": [
       "array([[ 0.,  6.,  0., 10., 10.,  0.,  0.,  0.,  7.,  8.,  8.,  7.,  0.,\n",
       "        10.,  9.,  7.,  0.,  8., 10.,  8.,  5.,  0.,  6.,  0.,  0.,  0.,\n",
       "         0.,  0.,  7., 10.,  0.,  8., 10.,  0.,  6.,  0.,  0.,  0.,  8.,\n",
       "         0.,  0.,  0.,  0.,  0.,  0.,  8.,  0.,  0.,  7.,  0.,  0.,  7.,\n",
       "         0.,  0.,  7.,  0.,  0.,  0.,  0.]])"
      ]
     },
     "execution_count": 139,
     "metadata": {},
     "output_type": "execute_result"
    }
   ],
   "source": [
    "movie_corpus[sim_users]"
   ]
  },
  {
   "cell_type": "code",
   "execution_count": 159,
   "metadata": {},
   "outputs": [
    {
     "data": {
      "text/plain": [
       "['First Man',\n",
       " 'Avengers: Endgame',\n",
       " 'Spider-Man: Into the Spider-Verse',\n",
       " 'A Star Is Born',\n",
       " 'Captain Marvel']"
      ]
     },
     "execution_count": 159,
     "metadata": {},
     "output_type": "execute_result"
    }
   ],
   "source": [
    "top_movie_index = [user.argsort()[-5:][::-1] for user in movie_corpus[sim_users]][0]\n",
    "# top_movie_index\n",
    "sim_user_top_movie = [a[movie] for movie in top_movie_index]\n",
    "sim_user_top_movie"
   ]
  },
  {
   "cell_type": "code",
   "execution_count": 166,
   "metadata": {},
   "outputs": [
    {
     "data": {
      "text/plain": [
       "['First Man', 'Vice', 'Roma', 'Green Book', 'Captain Marvel']"
      ]
     },
     "execution_count": 166,
     "metadata": {},
     "output_type": "execute_result"
    }
   ],
   "source": [
    "self_movie_index  = [movie_corpus[3].argsort()[-5:][::-1]][0]\n",
    "# self_movie_index\n",
    "self_top_movie = [a[movie] for movie in self_movie_index]\n",
    "self_top_movie"
   ]
  },
  {
   "cell_type": "code",
   "execution_count": 168,
   "metadata": {},
   "outputs": [],
   "source": [
    "weight_sim = np.loadtxt('weight_similarity.txt')"
   ]
  },
  {
   "cell_type": "code",
   "execution_count": null,
   "metadata": {},
   "outputs": [],
   "source": []
  },
  {
   "cell_type": "code",
   "execution_count": null,
   "metadata": {
    "collapsed": true
   },
   "outputs": [],
   "source": []
  }
 ],
 "metadata": {
  "kernelspec": {
   "display_name": "Python 3",
   "language": "python",
   "name": "python3"
  },
  "language_info": {
   "codemirror_mode": {
    "name": "ipython",
    "version": 3
   },
   "file_extension": ".py",
   "mimetype": "text/x-python",
   "name": "python",
   "nbconvert_exporter": "python",
   "pygments_lexer": "ipython3",
   "version": "3.6.3"
  }
 },
 "nbformat": 4,
 "nbformat_minor": 2
}
